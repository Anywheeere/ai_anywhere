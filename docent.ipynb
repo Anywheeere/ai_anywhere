{
 "cells": [
  {
   "cell_type": "code",
   "execution_count": 2,
   "metadata": {},
   "outputs": [],
   "source": [
    "import os\n",
    "from langchain.chat_models import ChatOpenAI\n",
    "from langchain.text_splitter import RecursiveCharacterTextSplitter\n",
    "from langchain.embeddings import OpenAIEmbeddings\n",
    "from langchain.vectorstores import Chroma\n",
    "from langchain.prompts import ChatPromptTemplate, HumanMessagePromptTemplate, SystemMessagePromptTemplate\n",
    "from langchain.memory import ConversationBufferMemory\n",
    "from langchain.chains import ConversationChain\n",
    "from dotenv import load_dotenv"
   ]
  },
  {
   "cell_type": "code",
   "execution_count": 4,
   "metadata": {},
   "outputs": [],
   "source": [
    "load_dotenv()\n",
    "OPENAI_API_KEY = os.getenv('OPENAI_API_KEY')"
   ]
  },
  {
   "cell_type": "code",
   "execution_count": 5,
   "metadata": {},
   "outputs": [
    {
     "name": "stderr",
     "output_type": "stream",
     "text": [
      "C:\\Users\\Admin\\AppData\\Local\\Temp\\ipykernel_19920\\2057052378.py:1: LangChainDeprecationWarning: The class `ChatOpenAI` was deprecated in LangChain 0.0.10 and will be removed in 1.0. An updated version of the class exists in the langchain-openai package and should be used instead. To use it run `pip install -U langchain-openai` and import as `from langchain_openai import ChatOpenAI`.\n",
      "  llm_model = ChatOpenAI(model_name='gpt-4o-mini', temperature=0.5)\n"
     ]
    }
   ],
   "source": [
    "llm_model = ChatOpenAI(model_name='gpt-4o-mini', temperature=0.5)"
   ]
  },
  {
   "cell_type": "code",
   "execution_count": 7,
   "metadata": {},
   "outputs": [
    {
     "name": "stderr",
     "output_type": "stream",
     "text": [
      "C:\\Users\\Admin\\AppData\\Local\\Temp\\ipykernel_19920\\4093885495.py:1: LangChainDeprecationWarning: The method `BaseChatModel.predict` was deprecated in langchain-core 0.1.7 and will be removed in 1.0. Use invoke instead.\n",
      "  llm_model.predict('hi')\n"
     ]
    },
    {
     "data": {
      "text/plain": [
       "'Hello! How can I assist you today?'"
      ]
     },
     "execution_count": 7,
     "metadata": {},
     "output_type": "execute_result"
    }
   ],
   "source": [
    "llm_model.predict('hi')"
   ]
  },
  {
   "cell_type": "code",
   "execution_count": 8,
   "metadata": {},
   "outputs": [],
   "source": [
    " proto_prompt = '''\n",
    "            사용자가 위도와 경도를 물어보면 해당 좌표 근처에 있는 랜드마크에 대해서 \n",
    "            설명해봐\n",
    "        '''"
   ]
  },
  {
   "cell_type": "code",
   "execution_count": 10,
   "metadata": {},
   "outputs": [],
   "source": [
    "memory = ConversationBufferMemory()\n",
    "llm_prompt = ChatPromptTemplate.from_messages(\n",
    "    [\n",
    "        SystemMessagePromptTemplate.from_template(f'{proto_prompt}'),\n",
    "        HumanMessagePromptTemplate.from_template('{history}'),\n",
    "        HumanMessagePromptTemplate.from_template('{input}')\n",
    "    ]\n",
    ")"
   ]
  },
  {
   "cell_type": "code",
   "execution_count": 12,
   "metadata": {},
   "outputs": [],
   "source": [
    "llm_chain = ConversationChain(\n",
    "    llm = llm_model,\n",
    "    prompt = llm_prompt,\n",
    "    memory = memory\n",
    ")"
   ]
  },
  {
   "cell_type": "code",
   "execution_count": 14,
   "metadata": {},
   "outputs": [
    {
     "data": {
      "text/plain": [
       "{'input': '40.68947, -74.04452',\n",
       " 'history': 'Human: 40.2940, -71.4725\\nAI: 위도 40.2940, 경도 -71.4725는 미국의 매사추세츠주에 위치하고 있습니다. 이 지역은 자연 경관이 아름답고, 역사적인 장소들이 많습니다. \\n\\n가까운 랜드마크 중 하나는 **플리머스 록(Plymouth Rock)**입니다. 이는 1620년, 메이플라워호가 도착한 곳으로 알려져 있으며, 미국의 역사에서 중요한 상징으로 여겨집니다. 이곳은 미국의 초기 이민자들인 필그림 파더스가 정착한 장소로, 많은 관광객들이 이 역사적인 장소를 방문합니다.\\n\\n또한, **플리머스 항구(Plymouth Harbor)**도 인근에 위치해 있어 아름다운 바다 경관을 감상할 수 있는 곳입니다. 이 지역은 해양 역사와 관련된 박물관과 기념물들이 있어 관광 명소로 인기가 높습니다.\\n\\n더불어, 매사추세츠주는 자연을 즐길 수 있는 다양한 공원과 해변도 갖추고 있어, 가족 단위 방문객들에게도 적합한 장소입니다.',\n",
       " 'response': '위도 40.68947, 경도 -74.04452는 미국 뉴욕주 뉴욕시에 위치하고 있습니다. 이 지역은 세계적으로 유명한 랜드마크들이 많습니다.\\n\\n가장 가까운 랜드마크는 **자유의 여신상(Statue of Liberty)**입니다. 이 상징적인 동상은 프랑스가 미국 독립 100주년을 기념하여 선물한 것으로, 자유와 민주주의의 상징으로 여겨집니다. 자유의 여신상은 리버티 섬에 위치해 있으며, 관광객들은 배를 타고 이곳을 방문하여 동상의 아름다움을 감상하고, 뉴욕 시의 멋진 전경을 즐길 수 있습니다.\\n\\n또한, **엘리스 섬(Ellis Island)**도 가까운 곳에 있습니다. 이곳은 1892년부터 1954년까지 수백만 명의 이민자들이 미국에 입국한 역사적인 장소로, 이민 역사 박물관이 있어 많은 사람들이 이곳을 방문하여 미국의 이민 역사를 배울 수 있습니다.\\n\\n이외에도 이 지역은 맨해튼의 중심지로서 다양한 문화적, 역사적 명소들이 밀집해 있어 관광객들에게 매력적인 장소입니다.'}"
      ]
     },
     "execution_count": 14,
     "metadata": {},
     "output_type": "execute_result"
    }
   ],
   "source": [
    "llm_chain.invoke('40.68947, -74.04452')"
   ]
  },
  {
   "cell_type": "code",
   "execution_count": null,
   "metadata": {},
   "outputs": [],
   "source": []
  }
 ],
 "metadata": {
  "kernelspec": {
   "display_name": ".venv",
   "language": "python",
   "name": "python3"
  },
  "language_info": {
   "codemirror_mode": {
    "name": "ipython",
    "version": 3
   },
   "file_extension": ".py",
   "mimetype": "text/x-python",
   "name": "python",
   "nbconvert_exporter": "python",
   "pygments_lexer": "ipython3",
   "version": "3.12.4"
  }
 },
 "nbformat": 4,
 "nbformat_minor": 2
}
